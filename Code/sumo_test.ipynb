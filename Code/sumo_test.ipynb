{
 "cells": [
  {
   "cell_type": "code",
   "execution_count": 22,
   "metadata": {},
   "outputs": [
    {
     "name": "stdout",
     "output_type": "stream",
     "text": [
      "30524\n"
     ]
    },
    {
     "name": "stderr",
     "output_type": "stream",
     "text": [
      "Some weights of the model checkpoint at microsoft/BiomedNLP-BiomedBERT-base-uncased-abstract-fulltext were not used when initializing BertModel: ['cls.predictions.transform.LayerNorm.bias', 'cls.seq_relationship.bias', 'cls.seq_relationship.weight', 'cls.predictions.decoder.weight', 'cls.predictions.bias', 'cls.predictions.transform.dense.weight', 'cls.predictions.decoder.bias', 'cls.predictions.transform.dense.bias', 'cls.predictions.transform.LayerNorm.weight']\n",
      "- This IS expected if you are initializing BertModel from the checkpoint of a model trained on another task or with another architecture (e.g. initializing a BertForSequenceClassification model from a BertForPreTraining model).\n",
      "- This IS NOT expected if you are initializing BertModel from the checkpoint of a model that you expect to be exactly identical (initializing a BertForSequenceClassification model from a BertForSequenceClassification model).\n"
     ]
    },
    {
     "name": "stdout",
     "output_type": "stream",
     "text": [
      "30524\n"
     ]
    }
   ],
   "source": [
    "model_name = 'microsoft/BiomedNLP-BiomedBERT-base-uncased-abstract-fulltext'\n",
    "import transformers\n",
    "import torch\n",
    "#torch.cuda.empty_cache()\n",
    "import torch.nn as nn\n",
    "from transformers import AutoModel, BertTokenizerFast\n",
    "# Free up memory\n",
    "torch.cuda.empty_cache()\n",
    "\n",
    "\n",
    "tokenizer = BertTokenizerFast.from_pretrained(model_name)\n",
    "\n",
    "tokenizer.add_tokens(['[E]', '[/E]'])\n",
    "print(len(tokenizer.get_vocab()))\n",
    "\n",
    "bert = AutoModel.from_pretrained(model_name)\n",
    "\n",
    "bert.resize_token_embeddings(len(tokenizer))\n",
    "print(bert.config.vocab_size)"
   ]
  },
  {
   "cell_type": "code",
   "execution_count": 64,
   "metadata": {},
   "outputs": [],
   "source": [
    "import pandas as pd\n",
    "dataset_tst = pd.read_csv('/home/shovan/Phd_Prelim/PTM/Datasets/hydroxylation_test_Apr26.csv')\n",
    "\n",
    "import re\n",
    "import string\n",
    "def noise_clean(sent):\n",
    "    if not sent.endswith('.'):\n",
    "        sent+='.'\n",
    "    return sent\n",
    "\n",
    "dataset_tst[\"Sentence\"] = dataset_tst[\"Sentence\"].apply(noise_clean)"
   ]
  },
  {
   "cell_type": "code",
   "execution_count": 65,
   "metadata": {},
   "outputs": [
    {
     "name": "stdout",
     "output_type": "stream",
     "text": [
      "\n",
      "Test Labels Distribution:\n",
      "1    38\n",
      "0    36\n",
      "Name: Label, dtype: int64\n"
     ]
    },
    {
     "name": "stderr",
     "output_type": "stream",
     "text": [
      "/home/shovan/.local/lib/python3.8/site-packages/transformers/tokenization_utils_base.py:2302: FutureWarning: The `pad_to_max_length` argument is deprecated and will be removed in a future version, use `padding=True` or `padding='longest'` to pad to the longest sequence in the batch, or use `padding='max_length'` to pad to a max length. In this case, you can give a specific length with `max_length` (e.g. `max_length=45`) or leave max_length to None to pad to the maximal input size of the model (e.g. 512 for Bert).\n",
      "  warnings.warn(\n"
     ]
    }
   ],
   "source": [
    "test_labels_counts = dataset_tst['Label'].value_counts()\n",
    "print(\"\\nTest Labels Distribution:\")\n",
    "print(test_labels_counts)\n",
    "\n",
    "tokens_val = tokenizer.batch_encode_plus(\n",
    "    dataset_tst['Sentence'].tolist(),\n",
    "    max_length = 512,\n",
    "    pad_to_max_length=True,\n",
    "    truncation=True\n",
    ")\n",
    "\n",
    "val_seq = torch.tensor(tokens_val['input_ids'])\n",
    "val_mask = torch.tensor(tokens_val['attention_mask'])\n",
    "val_y = torch.tensor(dataset_tst['Label'].tolist())\n",
    "\n",
    "from torch.utils.data import TensorDataset, DataLoader, RandomSampler, SequentialSampler\n",
    "batch_size = 16\n",
    "\n",
    "val_data = TensorDataset(val_seq, val_mask, val_y)\n",
    "val_sampler = SequentialSampler(val_data)\n",
    "val_dataloader = DataLoader(val_data, sampler = val_sampler, batch_size = batch_size)"
   ]
  },
  {
   "cell_type": "code",
   "execution_count": 66,
   "metadata": {},
   "outputs": [],
   "source": [
    "class BERT_Arch(nn.Module):\n",
    "\n",
    "    def __init__(self, bert):\n",
    "      \n",
    "      super(BERT_Arch, self).__init__()\n",
    "\n",
    "      self.bert = bert\n",
    "\n",
    "      self.fc1 = nn.Linear(768, 256)\n",
    "      self.dropout = nn.Dropout(0.1)\n",
    "      self.fc2 = nn.Linear(256, 2)\n",
    "\n",
    "      #self.sigmoid = nn.Sigmoid()\n",
    "      self.softmax = nn.LogSoftmax(dim=1)\n",
    "\n",
    "    #define the forward pass\n",
    "    def forward(self, sent_id, mask):\n",
    "\n",
    "      #pass the inputs to the model  \n",
    "      _, cls_hs = self.bert(sent_id, attention_mask=mask, return_dict = False)\n",
    "\n",
    "      # output layer\n",
    "      x = self.fc1(cls_hs)\n",
    "      x = self.dropout(x)\n",
    "      x = self.fc2(x)\n",
    "\n",
    "      #x = self.sigmoid(x)\n",
    "      x = self.softmax(x)\n",
    "\n",
    "      return x"
   ]
  },
  {
   "cell_type": "code",
   "execution_count": 67,
   "metadata": {},
   "outputs": [
    {
     "name": "stdout",
     "output_type": "stream",
     "text": [
      "Class Weights1: [1.02777778 0.97368421]\n"
     ]
    }
   ],
   "source": [
    "device = torch.device('cuda:1')\n",
    "\n",
    "model = BERT_Arch(bert)\n",
    "model = model.to(device)\n",
    "\n",
    "model.load_state_dict(torch.load('/home/shovan/Phd_Prelim/PTM/Weights/ep10_ubiq_sumo_nedd_com_apr26.pt'))\n",
    "model.eval()\n",
    "\n",
    "import numpy as np\n",
    "from sklearn.utils import class_weight\n",
    "\n",
    "#compute the class weights\n",
    "class_weights = class_weight.compute_class_weight('balanced', classes = np.unique(dataset_tst['Label']), y=dataset_tst['Label'])\n",
    "\n",
    "print(\"Class Weights1:\",class_weights)\n",
    "\n",
    "# converting list of class weights to a tensor\n",
    "from cProfile import label\n",
    "\n",
    "weights= torch.tensor(class_weights,dtype=torch.float)\n",
    "\n",
    "# push to CPU\n",
    "weights = weights.to(device)\n",
    "\n",
    "# define the loss function\n",
    "#cross_entropy  = nn.NLLLoss(weight=weights) \n",
    "cross_entropy  = nn.CrossEntropyLoss(weight=weights)"
   ]
  },
  {
   "cell_type": "code",
   "execution_count": 68,
   "metadata": {},
   "outputs": [],
   "source": [
    "def evaluate():\n",
    "    print(\"\\nEvaluating...\")\n",
    "\n",
    "    # set model to evaluation mode\n",
    "    model.eval()\n",
    "\n",
    "    total_loss, total_accuracy = 0, 0\n",
    "    \n",
    "    # list to hold model predictions\n",
    "    total_preds = []\n",
    "\n",
    "    # iterate over batches\n",
    "    for step, batch in enumerate(val_dataloader):\n",
    "        \n",
    "        # Progress update every 50 batches.\n",
    "        if step % 50 == 0 and not step == 0:\n",
    "            print('  Batch {:>5,}  of  {:>5,}.'.format(step, len(val_dataloader)))\n",
    "\n",
    "        # push the batch to device\n",
    "        batch = [t.to(device) for t in batch]\n",
    "        sent_id, mask, labels = batch\n",
    "\n",
    "        # deactivate autograd\n",
    "        with torch.no_grad():\n",
    "      \n",
    "            # model predictions\n",
    "            preds = model(sent_id, mask)\n",
    "\n",
    "            # compute the validation loss between actual and predicted values\n",
    "            loss = cross_entropy(preds, labels)\n",
    "\n",
    "            total_loss = total_loss + loss.item()\n",
    "\n",
    "            preds = preds.detach().cpu().numpy()\n",
    "\n",
    "            total_preds.append(preds)\n",
    "\n",
    "    # compute the validation loss of the epoch\n",
    "    avg_loss = total_loss / len(val_dataloader) \n",
    "\n",
    "    # reshape the predictions in form of (number of samples, no. of classes)\n",
    "    total_preds  = np.concatenate(total_preds, axis=0)\n",
    "\n",
    "    return avg_loss, total_preds\n"
   ]
  },
  {
   "cell_type": "code",
   "execution_count": 69,
   "metadata": {},
   "outputs": [
    {
     "name": "stdout",
     "output_type": "stream",
     "text": [
      "\n",
      "Evaluating...\n",
      "Accuracy: 0.8243\n",
      "Precision: 0.7778\n",
      "Recall: 0.9211\n",
      "F1: 0.8434\n"
     ]
    }
   ],
   "source": [
    "from sklearn.metrics import accuracy_score, precision_recall_fscore_support\n",
    "#import numpy as np\n",
    "\n",
    "\n",
    "# Predict on the validation set\n",
    "_, predictions = evaluate()\n",
    "\n",
    "# Convert predictions to label indices\n",
    "pred_labels = np.argmax(predictions, axis=1)\n",
    "\n",
    "# Calculate accuracy\n",
    "accuracy = accuracy_score(dataset_tst['Label'].to_numpy(), pred_labels)\n",
    "precision, recall, f1, _ = precision_recall_fscore_support(dataset_tst['Label'].to_numpy(), pred_labels, average='binary')\n",
    "\n",
    "print(f'Accuracy: {accuracy:.4f}')\n",
    "print(f'Precision: {precision:.4f}')\n",
    "print(f'Recall: {recall:.4f}')\n",
    "print(f'F1: {f1:.4f}')"
   ]
  },
  {
   "cell_type": "code",
   "execution_count": 70,
   "metadata": {},
   "outputs": [
    {
     "name": "stdout",
     "output_type": "stream",
     "text": [
      "Text: However, application of recombinant technology to [E]PROTEIN[/E] presents challenges, most notably the need for post-translational MODIFICATION of prolines for triple-helix stability.\n",
      "Predicted Label: 1, True Label: 0\n",
      "\n",
      "Text: Identification and characterization of [E]PROTEIN[/E]-like glycosylation and MODIFICATION of CCN1.\n",
      "Predicted Label: 0, True Label: 1\n",
      "\n",
      "Text: In this study, we detected [E]PROTEIN[/E]-like glycosylation and MODIFICATION at Lys203 of recombinant CCN1 by mass spectrometry.\n",
      "Predicted Label: 0, True Label: 1\n",
      "\n",
      "Text: To allow proper folding in triple-helices and organization in quaternary super-structures, collagen molecules require essential post-translational modifications (PTMs), including MODIFICATION of proline and lysine residues, and subsequent attachment of glycan moieties (galactose and glucose) to [E]PROTEIN[/E] on procollagen alpha chains.\n",
      "Predicted Label: 1, True Label: 0\n",
      "\n",
      "Text: To allow proper folding in triple-helices and organization in quaternary super-structures, collagen molecules require essential post-translational modifications (PTMs), including MODIFICATION of proline and lysine residues, and subsequent attachment of glycan moieties (galactose and glucose) to specific hydroxylysine residues on [E]PROTEIN[/E].\n",
      "Predicted Label: 1, True Label: 0\n",
      "\n",
      "Text: Raman spectroscopy was used to determine relative changes in mineral crystallinity, mineral carbonation, mineral/collagen matrix ratio, [E]PROTEIN[/E] quality ratio, and proline MODIFICATION.\n",
      "Predicted Label: 1, True Label: 0\n",
      "\n",
      "Text: Raman spectroscopy was used to determine relative changes in mineral crystallinity, mineral carbonation, mineral/[E]PROTEIN[/E] matrix ratio, collagen quality ratio, and proline MODIFICATION.\n",
      "Predicted Label: 1, True Label: 0\n",
      "\n",
      "Text: Role of prolyl MODIFICATION in the molecular interactions of [E]PROTEIN[/E].\n",
      "Predicted Label: 1, True Label: 0\n",
      "\n",
      "Text: Under hypoxic conditions, Compound 12 increased MODIFIED HIF-1α levels and [E]PROTEIN[/E] ubiquitination, and also dose-dependently decreased HIF-1α target gene expression as well as vascular endothelial growth factor (VEGF) secretion.\n",
      "Predicted Label: 1, True Label: 0\n",
      "\n",
      "Text: In normoxia, HIF-1α undergoes MODIFICATION by a specific HIF-prolyl hydroxylase domain protein (PHD), which facilitates ubiquitination and proteasomal degradation of [E]PROTEIN[/E].\n",
      "Predicted Label: 1, True Label: 0\n",
      "\n",
      "Text: In hypoxic TME, enriched miR-301a-3p could be transmitted between GC cells via exosomes and then contributed to inhibit [E]PROTEIN[/E] degradation through targeting PHD3, that were capable to MODIFY HIF-1α subunits to ubiquitinate degradation.\n",
      "Predicted Label: 1, True Label: 0\n",
      "\n",
      "Text: MODIFICATION of p53 upon [E]PROTEIN[/E] regulates its interaction with USP7 and USP10, and its inhibition decreases the association of p53 with USP7/USP10, increases p53 ubiquitination, and rapidly reduces p53 protein levels independently of mRNA expression.\n",
      "Predicted Label: 0, True Label: 1\n",
      "\n",
      "Text: MODIFICATION of p53 upon proline 359 regulates its interaction with USP7 and USP10, and its inhibition decreases the association of p53 with USP7/USP10, increases [E]PROTEIN[/E] ubiquitination, and rapidly reduces p53 protein levels independently of mRNA expression.\n",
      "Predicted Label: 1, True Label: 0\n",
      "\n"
     ]
    }
   ],
   "source": [
    "import numpy as np\n",
    "\n",
    "# Assuming `dataset_tst['Sentence']` is your texts and `dataset_tst['Label']` are your true labels\n",
    "true_labels = dataset_tst['Label'].to_numpy()\n",
    "predicted_labels = pred_labels  # This is obtained from your code\n",
    "\n",
    "# Find the indices where predicted and true labels differ\n",
    "mismatches = np.where(predicted_labels != true_labels)[0]\n",
    "\n",
    "# Extract the texts and their predicted and true labels for the mismatches\n",
    "mismatched_texts = dataset_tst['Sentence'].iloc[mismatches].values\n",
    "mismatched_predictions = predicted_labels[mismatches]\n",
    "mismatched_true_labels = true_labels[mismatches]\n",
    "\n",
    "# Display the results or process them further as needed\n",
    "for i, text in enumerate(mismatched_texts):\n",
    "    print(f\"Text: {text}\")\n",
    "    print(f\"Predicted Label: {mismatched_predictions[i]}, True Label: {mismatched_true_labels[i]}\\n\")\n",
    "\n",
    "# Depending on your dataset size and the number of mismatches, you might want to limit the number of outputs.\n"
   ]
  },
  {
   "cell_type": "code",
   "execution_count": 71,
   "metadata": {},
   "outputs": [
    {
     "data": {
      "image/png": "[encoded data removed]",
      "text/plain": [
       "<Figure size 800x600 with 2 Axes>"
      ]
     },
     "metadata": {},
     "output_type": "display_data"
    }
   ],
   "source": [
    "from sklearn.metrics import confusion_matrix\n",
    "import matplotlib.pyplot as plt\n",
    "import seaborn as sns\n",
    "\n",
    "# True labels\n",
    "true_labels = dataset_tst['Label'].to_numpy()\n",
    "\n",
    "# Predicted labels\n",
    "predicted_labels = pred_labels\n",
    "\n",
    "# Compute confusion matrix\n",
    "cm = confusion_matrix(true_labels, predicted_labels)\n",
    "\n",
    "# Plot the confusion matrix using Seaborn\n",
    "fig, ax = plt.subplots(figsize=(8, 6))\n",
    "sns.heatmap(cm, annot=True, fmt='d', cmap='Blues', xticklabels=[0, 1], yticklabels=[0, 1])\n",
    "plt.ylabel('Actual')\n",
    "plt.xlabel('Predicted')\n",
    "plt.title('Confusion Matrix')\n",
    "plt.show()\n"
   ]
  },
  {
   "cell_type": "code",
   "execution_count": 11,
   "metadata": {},
   "outputs": [],
   "source": [
    "def predict_sentences(sentences):\n",
    "    # Tokenize the sentences\n",
    "    encoded_input = tokenizer(sentences, padding=True, truncation=True, return_tensors=\"pt\")\n",
    "    \n",
    "    # Move tensors to the correct device\n",
    "    input_ids = encoded_input['input_ids'].to(device)\n",
    "    attention_mask = encoded_input['attention_mask'].to(device)\n",
    "    \n",
    "    # Predict without using named arguments\n",
    "    with torch.no_grad():\n",
    "        outputs = model(input_ids, attention_mask)\n",
    "    \n",
    "    logits = outputs\n",
    "    # Add a dimension to logits if it's missing the batch dimension\n",
    "    if logits.dim() == 1:\n",
    "        logits = logits.unsqueeze(0)\n",
    "    predictions = torch.argmax(logits, dim=1)\n",
    "    return predictions.cpu().numpy()\n",
    "\n"
   ]
  },
  {
   "cell_type": "code",
   "execution_count": 14,
   "metadata": {},
   "outputs": [
    {
     "name": "stdout",
     "output_type": "stream",
     "text": [
      "Predicted classes: [1 0]\n"
     ]
    }
   ],
   "source": [
    "new_sentences = [\n",
    "    \"[E]p68[/E] is sumoylated\",\n",
    "    \"[E]p68[/E] is ubiquitinated\"\n",
    "]\n",
    "\n",
    "predicted_classes = predict_sentences(new_sentences)\n",
    "print(\"Predicted classes:\", predicted_classes)"
   ]
  }
 ],
 "metadata": {
  "kernelspec": {
   "display_name": "Python 3",
   "language": "python",
   "name": "python3"
  },
  "language_info": {
   "codemirror_mode": {
    "name": "ipython",
    "version": 3
   },
   "file_extension": ".py",
   "mimetype": "text/x-python",
   "name": "python",
   "nbconvert_exporter": "python",
   "pygments_lexer": "ipython3",
   "version": "3.8.10"
  }
 },
 "nbformat": 4,
 "nbformat_minor": 2
}
