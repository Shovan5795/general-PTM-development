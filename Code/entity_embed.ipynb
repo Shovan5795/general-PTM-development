{
 "cells": [
  {
   "cell_type": "code",
   "execution_count": 19,
   "metadata": {},
   "outputs": [],
   "source": [
    "import torch\n",
    "def tokenize_and_extract_entity_indices(sentences, tokenizer):\n",
    "    input_ids = []\n",
    "    attention_masks = []\n",
    "    entity_start_positions = []\n",
    "    entity_end_positions = []\n",
    "\n",
    "    for sentence in sentences:\n",
    "        encoded = tokenizer.encode_plus(\n",
    "            sentence,\n",
    "            add_special_tokens=True,\n",
    "            max_length=512,\n",
    "            padding='max_length',\n",
    "            truncation=True,\n",
    "            return_attention_mask=True,\n",
    "            return_tensors='pt'\n",
    "        )\n",
    "\n",
    "        # Flatten the tensors to remove batch dimension added by `return_tensors`\n",
    "        input_ids.append(encoded['input_ids'].squeeze())\n",
    "        attention_masks.append(encoded['attention_mask'].squeeze())\n",
    "\n",
    "        # Find entity markers\n",
    "        start_index = (encoded['input_ids'].squeeze() == tokenizer.convert_tokens_to_ids('[E]')).nonzero(as_tuple=True)[0]\n",
    "        end_index = (encoded['input_ids'].squeeze() == tokenizer.convert_tokens_to_ids('[/E]')).nonzero(as_tuple=True)[0]\n",
    "\n",
    "        # In case of no entity marker found, assign 0 as a default index\n",
    "        entity_start_positions.append(start_index[0] if len(start_index) > 0 else torch.tensor(0))\n",
    "        entity_end_positions.append(end_index[0] if len(end_index) > 0 else torch.tensor(0))\n",
    "\n",
    "    return torch.stack(input_ids), torch.stack(attention_masks), torch.stack(entity_start_positions), torch.stack(entity_end_positions)\n"
   ]
  },
  {
   "cell_type": "code",
   "execution_count": 20,
   "metadata": {},
   "outputs": [
    {
     "name": "stdout",
     "output_type": "stream",
     "text": [
      "Train shape: (2003, 2)\n",
      "Validation shape: (223, 2)\n",
      "Test shape: (160, 2)\n"
     ]
    }
   ],
   "source": [
    "import pandas as pd\n",
    "from sklearn.model_selection import train_test_split\n",
    "dataset = pd.read_csv(r'/home/shovan/Phd_Prelim/PTM/Datasets/Ubiq_training_data_Apr9.csv')\n",
    "dataset.head()\n",
    "\n",
    "train_dataset, val_dataset = train_test_split(dataset, test_size=0.1, random_state=42, stratify=dataset['Label'])\n",
    "\n",
    "test_dataset = pd.read_csv(r'/home/shovan/Phd_Prelim/PTM/Datasets/ubiq_test_Apr9.csv')\n",
    "\n",
    "print(\"Train shape:\", train_dataset.shape)\n",
    "print(\"Validation shape:\", val_dataset.shape)\n",
    "print(\"Test shape:\", test_dataset.shape)"
   ]
  },
  {
   "cell_type": "code",
   "execution_count": 21,
   "metadata": {},
   "outputs": [],
   "source": [
    "import re\n",
    "import string\n",
    "def noise_clean(sent):\n",
    "    if not sent.endswith('.'):\n",
    "        sent+='.'\n",
    "    return sent\n",
    "\n",
    "# Apply preprocessing\n",
    "train_dataset[\"Sentence\"] = train_dataset[\"Sentence\"].apply(noise_clean)\n",
    "val_dataset[\"Sentence\"] = val_dataset[\"Sentence\"].apply(noise_clean)\n",
    "test_dataset[\"Sentence\"] = test_dataset[\"Sentence\"].apply(noise_clean)"
   ]
  },
  {
   "cell_type": "code",
   "execution_count": 22,
   "metadata": {},
   "outputs": [
    {
     "name": "stdout",
     "output_type": "stream",
     "text": [
      "Training Labels Distribution:\n",
      "0    1237\n",
      "1     766\n",
      "Name: Label, dtype: int64\n",
      "\n",
      "Validation Labels Distribution:\n",
      "0    138\n",
      "1     85\n",
      "Name: Label, dtype: int64\n",
      "\n",
      "Test Labels Distribution:\n",
      "0    95\n",
      "1    65\n",
      "Name: Label, dtype: int64\n"
     ]
    }
   ],
   "source": [
    "train_labels_counts = train_dataset['Label'].value_counts()\n",
    "print(\"Training Labels Distribution:\")\n",
    "print(train_labels_counts)\n",
    "\n",
    "val_labels_counts = val_dataset['Label'].value_counts()\n",
    "print(\"\\nValidation Labels Distribution:\")\n",
    "print(val_labels_counts)\n",
    "\n",
    "test_labels_counts = test_dataset['Label'].value_counts()\n",
    "print(\"\\nTest Labels Distribution:\")\n",
    "print(test_labels_counts)"
   ]
  },
  {
   "cell_type": "code",
   "execution_count": 23,
   "metadata": {},
   "outputs": [
    {
     "name": "stdout",
     "output_type": "stream",
     "text": [
      "<class 'pandas.core.frame.DataFrame'>\n",
      "Int64Index: 2003 entries, 935 to 947\n",
      "Data columns (total 3 columns):\n",
      " #   Column     Non-Null Count  Dtype \n",
      "---  ------     --------------  ----- \n",
      " 0   Sentence   2003 non-null   object\n",
      " 1   Label      2003 non-null   int64 \n",
      " 2   num_words  2003 non-null   int64 \n",
      "dtypes: int64(2), object(1)\n",
      "memory usage: 62.6+ KB\n",
      "58\n",
      "<class 'pandas.core.frame.DataFrame'>\n",
      "Int64Index: 223 entries, 134 to 1377\n",
      "Data columns (total 3 columns):\n",
      " #   Column     Non-Null Count  Dtype \n",
      "---  ------     --------------  ----- \n",
      " 0   Sentence   223 non-null    object\n",
      " 1   Label      223 non-null    int64 \n",
      " 2   num_words  223 non-null    int64 \n",
      "dtypes: int64(2), object(1)\n",
      "memory usage: 7.0+ KB\n",
      "49\n",
      "<class 'pandas.core.frame.DataFrame'>\n",
      "RangeIndex: 160 entries, 0 to 159\n",
      "Data columns (total 3 columns):\n",
      " #   Column     Non-Null Count  Dtype \n",
      "---  ------     --------------  ----- \n",
      " 0   Sentence   160 non-null    object\n",
      " 1   Label      160 non-null    int64 \n",
      " 2   num_words  160 non-null    int64 \n",
      "dtypes: int64(2), object(1)\n",
      "memory usage: 3.9+ KB\n",
      "48\n"
     ]
    }
   ],
   "source": [
    "train_dataset[\"num_words\"] = train_dataset.Sentence.apply(lambda x: len(x.split()))\n",
    "train_dataset.info()\n",
    "print(train_dataset.num_words.max())\n",
    "\n",
    "val_dataset[\"num_words\"] = val_dataset.Sentence.apply(lambda x: len(x.split()))\n",
    "val_dataset.info()\n",
    "print(val_dataset.num_words.max())\n",
    "\n",
    "test_dataset[\"num_words\"] = test_dataset.Sentence.apply(lambda x: len(x.split()))\n",
    "test_dataset.info()\n",
    "print(test_dataset.num_words.max())"
   ]
  },
  {
   "cell_type": "code",
   "execution_count": 27,
   "metadata": {},
   "outputs": [
    {
     "name": "stdout",
     "output_type": "stream",
     "text": [
      "30524\n"
     ]
    }
   ],
   "source": [
    "model_name = 'microsoft/BiomedNLP-BiomedBERT-base-uncased-abstract-fulltext'\n",
    "import transformers\n",
    "from torch.utils.data import Dataset, DataLoader\n",
    "#torch.cuda.empty_cache()\n",
    "import torch.nn as nn\n",
    "from transformers import AutoModel, BertTokenizerFast\n",
    "# Free up memory\n",
    "torch.cuda.empty_cache()\n",
    "\n",
    "\n",
    "tokenizer = BertTokenizerFast.from_pretrained(model_name)\n",
    "\n",
    "tokenizer.add_tokens(['[E]', '[/E]'])\n",
    "print(len(tokenizer.get_vocab()))"
   ]
  },
  {
   "cell_type": "code",
   "execution_count": 29,
   "metadata": {},
   "outputs": [
    {
     "name": "stderr",
     "output_type": "stream",
     "text": [
      "Some weights of the model checkpoint at microsoft/BiomedNLP-BiomedBERT-base-uncased-abstract-fulltext were not used when initializing BertModel: ['cls.predictions.transform.dense.weight', 'cls.predictions.bias', 'cls.predictions.decoder.weight', 'cls.seq_relationship.weight', 'cls.predictions.decoder.bias', 'cls.seq_relationship.bias', 'cls.predictions.transform.dense.bias', 'cls.predictions.transform.LayerNorm.weight', 'cls.predictions.transform.LayerNorm.bias']\n",
      "- This IS expected if you are initializing BertModel from the checkpoint of a model trained on another task or with another architecture (e.g. initializing a BertForSequenceClassification model from a BertForPreTraining model).\n",
      "- This IS NOT expected if you are initializing BertModel from the checkpoint of a model that you expect to be exactly identical (initializing a BertForSequenceClassification model from a BertForSequenceClassification model).\n"
     ]
    },
    {
     "name": "stdout",
     "output_type": "stream",
     "text": [
      "30524\n"
     ]
    }
   ],
   "source": [
    "bert = AutoModel.from_pretrained(model_name)\n",
    "\n",
    "bert.resize_token_embeddings(len(tokenizer))\n",
    "print(bert.config.vocab_size)"
   ]
  },
  {
   "cell_type": "code",
   "execution_count": 30,
   "metadata": {},
   "outputs": [],
   "source": [
    "# Example call for the train dataset\n",
    "train_input_ids, train_attention_masks, train_start_positions, train_end_positions = tokenize_and_extract_entity_indices(train_dataset['Sentence'].tolist(), tokenizer)\n",
    "\n",
    "# Similarly for validation and test datasets\n",
    "val_input_ids, val_attention_masks, val_start_positions, val_end_positions = tokenize_and_extract_entity_indices(val_dataset['Sentence'].tolist(), tokenizer)\n",
    "test_input_ids, test_attention_masks, test_start_positions, test_end_positions = tokenize_and_extract_entity_indices(test_dataset['Sentence'].tolist(), tokenizer)\n",
    "\n",
    "# Now, define a custom dataset\n",
    "class ProteinDataset(Dataset):\n",
    "    def __init__(self, input_ids, masks, start_positions, end_positions, labels=None):\n",
    "        self.input_ids = input_ids\n",
    "        self.masks = masks\n",
    "        self.start_positions = start_positions\n",
    "        self.end_positions = end_positions\n",
    "        self.labels = labels\n",
    "\n",
    "    def __len__(self):\n",
    "        return len(self.input_ids)\n",
    "\n",
    "    def __getitem__(self, idx):\n",
    "        item = {\n",
    "            'input_ids': self.input_ids[idx],\n",
    "            'attention_mask': self.masks[idx],\n",
    "            'start_position': self.start_positions[idx],\n",
    "            'end_position': self.end_positions[idx]\n",
    "        }\n",
    "        if self.labels is not None:\n",
    "            item['labels'] = self.labels[idx]\n",
    "        return item\n",
    "\n",
    "batch_size = 16\n",
    "\n",
    "train_labels = torch.tensor(train_dataset['Label'].tolist())\n",
    "val_labels = torch.tensor(val_dataset['Label'].tolist())\n",
    "test_labels = torch.tensor(test_dataset['Label'].tolist())\n",
    "\n",
    "train_data = ProteinDataset(train_input_ids, train_attention_masks, train_start_positions, train_end_positions, train_labels)\n",
    "train_loader = DataLoader(train_data, batch_size=batch_size, shuffle=True)\n",
    "\n",
    "val_data = ProteinDataset(val_input_ids, val_attention_masks, val_start_positions, val_end_positions, val_labels)\n",
    "val_loader = DataLoader(val_data, batch_size=batch_size, shuffle=False)\n",
    "\n",
    "test_data = ProteinDataset(test_input_ids, test_attention_masks, test_start_positions, test_end_positions, test_labels)\n",
    "test_loader = DataLoader(test_data, batch_size=batch_size, shuffle=False)\n"
   ]
  },
  {
   "cell_type": "code",
   "execution_count": 31,
   "metadata": {},
   "outputs": [],
   "source": [
    "for param in bert.parameters():\n",
    "    param.requires_grad = True"
   ]
  },
  {
   "cell_type": "code",
   "execution_count": 33,
   "metadata": {},
   "outputs": [],
   "source": [
    "class BERT_Arch(nn.Module):\n",
    "    def __init__(self, bert):\n",
    "        super(BERT_Arch, self).__init__()\n",
    "        self.bert = bert\n",
    "        # Updated to handle three times the embedding size due to concatenation of CLS and two entity token embeddings\n",
    "        self.fc1 = nn.Linear(768 * 3, 256)\n",
    "        self.dropout = nn.Dropout(0.1)\n",
    "        self.fc2 = nn.Linear(256, 2)\n",
    "        self.softmax = nn.LogSoftmax(dim=1)\n",
    "\n",
    "    def forward(self, sent_id, mask, start_pos, end_pos):\n",
    "        # Getting outputs from BERT\n",
    "        outputs = self.bert(sent_id, attention_mask=mask)\n",
    "        sequence_output = outputs.last_hidden_state\n",
    "\n",
    "        # Extract the CLS token's embeddings\n",
    "        cls_hs = sequence_output[:, 0, :]  # CLS token is the first token\n",
    "\n",
    "        # Extract embeddings for start and end entity positions\n",
    "        start_embeddings = sequence_output[torch.arange(sequence_output.size(0)), start_pos]\n",
    "        end_embeddings = sequence_output[torch.arange(sequence_output.size(0)), end_pos]\n",
    "\n",
    "        # Concatenate CLS and entity embeddings\n",
    "        concatenated_embeddings = torch.cat((cls_hs, start_embeddings, end_embeddings), dim=1)\n",
    "\n",
    "        # Passing through the classifier layers\n",
    "        x = self.fc1(concatenated_embeddings)\n",
    "        x = self.dropout(x)\n",
    "        x = self.fc2(x)\n",
    "        x = self.softmax(x)\n",
    "\n",
    "        return x\n"
   ]
  },
  {
   "cell_type": "code",
   "execution_count": 34,
   "metadata": {},
   "outputs": [
    {
     "name": "stdout",
     "output_type": "stream",
     "text": [
      "Class Weights: [0.80962005 1.30744125]\n"
     ]
    }
   ],
   "source": [
    "\n",
    "device = torch.device('cuda:1')\n",
    "\n",
    "model = BERT_Arch(bert)\n",
    "model = model.to(device)\n",
    "\n",
    "optimizer = torch.optim.Adam(model.parameters(), lr = 2e-5, weight_decay = 0.001)\n",
    "#from transformers import AdamW\n",
    "#optimizer = AdamW(model.parameters(), lr = 1e-5)\n",
    "\n",
    "from torch.optim.lr_scheduler import ReduceLROnPlateau\n",
    "\n",
    "# Initialize the scheduler\n",
    "scheduler = ReduceLROnPlateau(optimizer, mode='min', factor=0.1, patience=3, verbose=True)\n",
    "\n",
    "import numpy as np\n",
    "from sklearn.utils import class_weight\n",
    "\n",
    "#compute the class weights\n",
    "class_weights = class_weight.compute_class_weight('balanced', classes = np.unique(train_dataset['Label']), y=train_dataset['Label'])\n",
    "\n",
    "print(\"Class Weights:\",class_weights)\n",
    "\n",
    "# converting list of class weights to a tensor\n",
    "from cProfile import label\n",
    "\n",
    "weights= torch.tensor(class_weights,dtype=torch.float)\n",
    "\n",
    "# push to CPU\n",
    "weights = weights.to(device)\n",
    "\n",
    "# define the loss function\n",
    "#cross_entropy  = nn.NLLLoss(weight=weights) \n",
    "cross_entropy  = nn.CrossEntropyLoss(weight=weights)\n",
    "# number of training epochs\n",
    "epochs = 10"
   ]
  },
  {
   "cell_type": "code",
   "execution_count": 37,
   "metadata": {},
   "outputs": [],
   "source": [
    "def train():\n",
    "    model.train()\n",
    "    total_loss = 0\n",
    "    total_preds = []\n",
    "\n",
    "    for step, batch in enumerate(train_loader):\n",
    "        if step % 50 == 0 and not step == 0:\n",
    "            print('Batch {:>5,} of {:>5,}.'.format(step, len(train_loader)))\n",
    "\n",
    "        # Unpack the batch directly into the respective tensors and move them to the device\n",
    "        sent_id = batch['input_ids'].to(device)\n",
    "        mask = batch['attention_mask'].to(device)\n",
    "        start_pos = batch['start_position'].to(device)\n",
    "        end_pos = batch['end_position'].to(device)\n",
    "        labels = batch['labels'].to(device)\n",
    "\n",
    "        model.zero_grad()\n",
    "        ypred = model(sent_id, mask, start_pos, end_pos)\n",
    "        loss = cross_entropy(ypred, labels)\n",
    "        total_loss += loss.item()\n",
    "        loss.backward()\n",
    "        torch.nn.utils.clip_grad_norm_(model.parameters(), 1.0)\n",
    "        optimizer.step()\n",
    "\n",
    "        ypred = ypred.detach().cpu().numpy()\n",
    "        total_preds.append(ypred)\n",
    "\n",
    "    avg_loss = total_loss / len(train_loader)\n",
    "    total_preds = np.concatenate(total_preds, axis=0)\n",
    "    return avg_loss, total_preds\n",
    "\n"
   ]
  },
  {
   "cell_type": "code",
   "execution_count": 38,
   "metadata": {},
   "outputs": [],
   "source": [
    "def evaluate(dataloader):\n",
    "    print(\"\\nEvaluating...\")\n",
    "    model.eval()\n",
    "    total_loss = 0\n",
    "    total_preds = []\n",
    "\n",
    "    for step, batch in enumerate(dataloader):\n",
    "        if step % 50 == 0 and not step == 0:\n",
    "            print('  Batch {:>5,} of {:>5,}.'.format(step, len(dataloader)))\n",
    "\n",
    "        # Unpack the batch directly into the respective tensors and move them to the device\n",
    "        sent_id = batch['input_ids'].to(device)\n",
    "        mask = batch['attention_mask'].to(device)\n",
    "        start_pos = batch['start_position'].to(device)\n",
    "        end_pos = batch['end_position'].to(device)\n",
    "        labels = batch['labels'].to(device)\n",
    "\n",
    "        with torch.no_grad():\n",
    "            preds = model(sent_id, mask, start_pos, end_pos)\n",
    "            loss = cross_entropy(preds, labels)\n",
    "            total_loss += loss.item()\n",
    "            preds = preds.detach().cpu().numpy()\n",
    "            total_preds.append(preds)\n",
    "\n",
    "    avg_loss = total_loss / len(dataloader)\n",
    "    total_preds = np.concatenate(total_preds, axis=0)\n",
    "    return avg_loss, total_preds\n"
   ]
  },
  {
   "cell_type": "code",
   "execution_count": 39,
   "metadata": {},
   "outputs": [
    {
     "name": "stdout",
     "output_type": "stream",
     "text": [
      "\n",
      " Epoch 1 / 10\n",
      "Batch    50 of   126.\n",
      "Batch   100 of   126.\n"
     ]
    },
    {
     "ename": "AttributeError",
     "evalue": "'str' object has no attribute 'to'",
     "output_type": "error",
     "traceback": [
      "\u001b[0;31m---------------------------------------------------------------------------\u001b[0m",
      "\u001b[0;31mAttributeError\u001b[0m                            Traceback (most recent call last)",
      "Cell \u001b[0;32mIn [39], line 17\u001b[0m\n\u001b[1;32m     14\u001b[0m train_loss, _ \u001b[38;5;241m=\u001b[39m train()\n\u001b[1;32m     16\u001b[0m \u001b[38;5;66;03m#evaluate model\u001b[39;00m\n\u001b[0;32m---> 17\u001b[0m valid_loss, _ \u001b[38;5;241m=\u001b[39m evaluate(val_loader)\n\u001b[1;32m     19\u001b[0m scheduler\u001b[38;5;241m.\u001b[39mstep(valid_loss)\n\u001b[1;32m     21\u001b[0m \u001b[38;5;66;03m#save the best model\u001b[39;00m\n",
      "Cell \u001b[0;32mIn [38], line 10\u001b[0m, in \u001b[0;36mevaluate\u001b[0;34m(dataloader)\u001b[0m\n\u001b[1;32m      7\u001b[0m \u001b[38;5;28;01mif\u001b[39;00m step \u001b[38;5;241m%\u001b[39m \u001b[38;5;241m50\u001b[39m \u001b[38;5;241m==\u001b[39m \u001b[38;5;241m0\u001b[39m \u001b[38;5;129;01mand\u001b[39;00m \u001b[38;5;129;01mnot\u001b[39;00m step \u001b[38;5;241m==\u001b[39m \u001b[38;5;241m0\u001b[39m:\n\u001b[1;32m      8\u001b[0m     \u001b[38;5;28mprint\u001b[39m(\u001b[38;5;124m'\u001b[39m\u001b[38;5;124m  Batch \u001b[39m\u001b[38;5;132;01m{:>5,}\u001b[39;00m\u001b[38;5;124m of \u001b[39m\u001b[38;5;132;01m{:>5,}\u001b[39;00m\u001b[38;5;124m.\u001b[39m\u001b[38;5;124m'\u001b[39m\u001b[38;5;241m.\u001b[39mformat(step, \u001b[38;5;28mlen\u001b[39m(dataloader)))\n\u001b[0;32m---> 10\u001b[0m batch \u001b[38;5;241m=\u001b[39m [t\u001b[38;5;241m.\u001b[39mto(device) \u001b[38;5;28;01mfor\u001b[39;00m t \u001b[38;5;129;01min\u001b[39;00m batch]\n\u001b[1;32m     11\u001b[0m sent_id, mask, start_pos, end_pos, labels \u001b[38;5;241m=\u001b[39m batch\n\u001b[1;32m     13\u001b[0m \u001b[38;5;28;01mwith\u001b[39;00m torch\u001b[38;5;241m.\u001b[39mno_grad():\n",
      "Cell \u001b[0;32mIn [38], line 10\u001b[0m, in \u001b[0;36m<listcomp>\u001b[0;34m(.0)\u001b[0m\n\u001b[1;32m      7\u001b[0m \u001b[38;5;28;01mif\u001b[39;00m step \u001b[38;5;241m%\u001b[39m \u001b[38;5;241m50\u001b[39m \u001b[38;5;241m==\u001b[39m \u001b[38;5;241m0\u001b[39m \u001b[38;5;129;01mand\u001b[39;00m \u001b[38;5;129;01mnot\u001b[39;00m step \u001b[38;5;241m==\u001b[39m \u001b[38;5;241m0\u001b[39m:\n\u001b[1;32m      8\u001b[0m     \u001b[38;5;28mprint\u001b[39m(\u001b[38;5;124m'\u001b[39m\u001b[38;5;124m  Batch \u001b[39m\u001b[38;5;132;01m{:>5,}\u001b[39;00m\u001b[38;5;124m of \u001b[39m\u001b[38;5;132;01m{:>5,}\u001b[39;00m\u001b[38;5;124m.\u001b[39m\u001b[38;5;124m'\u001b[39m\u001b[38;5;241m.\u001b[39mformat(step, \u001b[38;5;28mlen\u001b[39m(dataloader)))\n\u001b[0;32m---> 10\u001b[0m batch \u001b[38;5;241m=\u001b[39m [\u001b[43mt\u001b[49m\u001b[38;5;241;43m.\u001b[39;49m\u001b[43mto\u001b[49m(device) \u001b[38;5;28;01mfor\u001b[39;00m t \u001b[38;5;129;01min\u001b[39;00m batch]\n\u001b[1;32m     11\u001b[0m sent_id, mask, start_pos, end_pos, labels \u001b[38;5;241m=\u001b[39m batch\n\u001b[1;32m     13\u001b[0m \u001b[38;5;28;01mwith\u001b[39;00m torch\u001b[38;5;241m.\u001b[39mno_grad():\n",
      "\u001b[0;31mAttributeError\u001b[0m: 'str' object has no attribute 'to'"
     ]
    }
   ],
   "source": [
    "# set initial loss to infinite\n",
    "best_valid_loss = float('inf')\n",
    "\n",
    "# empty lists to store training and validation loss of each epoch\n",
    "train_losses=[]\n",
    "valid_losses=[]\n",
    "\n",
    "#for each epoch\n",
    "for epoch in range(epochs):\n",
    "     \n",
    "    print('\\n Epoch {:} / {:}'.format(epoch + 1, epochs))\n",
    "    \n",
    "    #train model\n",
    "    train_loss, _ = train()\n",
    "    \n",
    "    #evaluate model\n",
    "    valid_loss, _ = evaluate(val_loader)\n",
    "    \n",
    "    scheduler.step(valid_loss)\n",
    "    \n",
    "    #save the best model\n",
    "    if valid_loss < best_valid_loss:\n",
    "        best_valid_loss = valid_loss\n",
    "        torch.save(model.state_dict(), '/home/shovan/Phd_Prelim/PTM/Weights/ep10_ubiq_entity_May10.pt')\n",
    "    \n",
    "    # append training and validation loss\n",
    "    train_losses.append(train_loss)\n",
    "    valid_losses.append(valid_loss)\n",
    "    \n",
    "    print(f'\\nTraining Loss: {train_loss:.3f}')\n",
    "    print(f'Validation Loss: {valid_loss:.3f}')\n"
   ]
  },
  {
   "cell_type": "code",
   "execution_count": 13,
   "metadata": {},
   "outputs": [
    {
     "name": "stdout",
     "output_type": "stream",
     "text": [
      "\n",
      "Evaluating...\n",
      "Test Accuracy: 0.9203\n",
      "Precision: 0.9267\n",
      "Recall: 0.9145\n",
      "F1: 0.9205\n"
     ]
    }
   ],
   "source": [
    "from sklearn.metrics import accuracy_score, precision_recall_fscore_support\n",
    "\n",
    "# Load the best model\n",
    "model.load_state_dict(torch.load('/home/shovan/Phd_Prelim/PTM/Weights/ep10_ubiq_sumo_nedd_com_apr26.pt'))\n",
    "\n",
    "test_loss, test_preds = evaluate(test_loader)  # Pass the correct dataloader here\n",
    "\n",
    "# Convert predictions to label indices\n",
    "pred_labels = np.argmax(test_preds, axis=1)\n",
    "\n",
    "# Compute metrics\n",
    "test_accuracy = accuracy_score(test_dataset['Label'].to_numpy(), pred_labels)\n",
    "precision, recall, f1, _ = precision_recall_fscore_support(test_dataset['Label'].to_numpy(), pred_labels, average='binary')\n",
    "\n",
    "print(f'Test Accuracy: {test_accuracy:.4f}')\n",
    "print(f'Precision: {precision:.4f}')\n",
    "print(f'Recall: {recall:.4f}')\n",
    "print(f'F1: {f1:.4f}')"
   ]
  },
  {
   "cell_type": "code",
   "execution_count": 14,
   "metadata": {},
   "outputs": [
    {
     "name": "stdout",
     "output_type": "stream",
     "text": [
      "Text: We find that all three TRANSFERASES can direct the MODIFICATION of TFIIEbetaand TFIIF, and we identify a [E]PROTEIN[/E] of MODIFICATION in TFIIEbeta.\n",
      "Predicted Label: 0, True Label: 1\n",
      "\n",
      "Text: Increased affinity of [E]PROTEIN[/E] for CREB-binding protein (CBP) after CBP-induced MODIFICATION.\n",
      "Predicted Label: 0, True Label: 1\n",
      "\n",
      "Text: The results of transcriptional activation assays with [E]PROTEIN[/E] MODIFICATION site mutants suggested that MODIFICATION of c-Myb at each of these five sites synergistically enhances c-Myb activity.\n",
      "Predicted Label: 0, True Label: 1\n",
      "\n",
      "Text: These results uncover novel post-translational modifications of Max and suggest the potential regulation of specific [E]PROTEIN[/E] complexes by p300 and reversible MODIFICATION.\n",
      "Predicted Label: 0, True Label: 1\n",
      "\n",
      "Text: Here we demonstrate that the C/H2 domain of CBP, which is critical for the TRANSFERASE activity, also directly interacts with the [E]PROTEIN[/E] of c-Myb.\n",
      "Predicted Label: 0, True Label: 1\n",
      "\n",
      "Text: Here we demonstrate that the C/H2 domain of CBP, which is critical for the TRANSFERASE activity, also directly interacts with the negative regulatory domain (NRD) of [E]PROTEIN[/E].\n",
      "Predicted Label: 0, True Label: 1\n",
      "\n",
      "Text: The X-ray crystal structures of yeast Esa1 (yEsa1/KAT5) bound to a bisubstrate H4K16CoA inhibitor and [E]PROTEIN[/E] reveal that they are autoMODIFIED at a strictly conserved lysine residue in MYST proteins (yEsa1-K262 and hMOF-K274) in the enzyme active site.\n",
      "Predicted Label: 0, True Label: 1\n",
      "\n",
      "Text: The X-ray crystal structures of yeast Esa1 (yEsa1/KAT5) bound to a [E]PROTEIN[/E] and human MOF (hMOF/KAT8/MYST1) reveal that they are autoMODIFIED at a strictly conserved lysine residue in MYST proteins (yEsa1-K262 and hMOF-K274) in the enzyme active site.\n",
      "Predicted Label: 0, True Label: 1\n",
      "\n",
      "Text: p300 is then recruited to the gene promoter through the interaction with deMODIFIED [E]PROTEIN[/E] to MODIFY histone 3, leading to the enhancement of the expression of 12(S)-lipoxygenase.\n",
      "Predicted Label: 0, True Label: 1\n",
      "\n",
      "Text: [E]PROTEIN[/E] recruits TRANSFERASES to modify chromatin and is, itself, MODIFIED in mammalian cells by several of these TRANSFERASES including p300/CBP, GCN5, and Tip60.\n",
      "Predicted Label: 0, True Label: 1\n",
      "\n",
      "Text: p300 is then recruited to the gene promoter through the interaction with deMODIFIED Sp1 to MODIFY histone 3, leading to the enhancement of the expression of [E]PROTEIN[/E].\n",
      "Predicted Label: 1, True Label: 0\n",
      "\n",
      "Text: Prolonged stimulation of the cells with GROUP (9 h), however, caused the dissociation of histone deacetylase 1 (HDAC1) and the deMODIFICATION of Sp1, with the latter being able to recruit p300 that in turn caused the MODIFICATION and dissociation of histone 3, thus enhancing the expression of [E]PROTEIN[/E].\n",
      "Predicted Label: 1, True Label: 0\n",
      "\n",
      "Text: We also show that Lys4 MODIFICATION plays a prominent role in the p300-dependent activation of [E]PROTEIN[/E].\n",
      "Predicted Label: 1, True Label: 0\n",
      "\n",
      "Text: These findings provide an avenue for the autoposttranslational regulation of [E]PROTEIN[/E] proteins that is distinct from other TRANSFERASES but draws similarities to the phosphoregulation of protein kinases.\n",
      "Predicted Label: 1, True Label: 0\n",
      "\n",
      "Text: The X-ray crystal structures of yeast [E]PROTEIN[/E] bound to a bisubstrate H4K16CoA inhibitor and human MOF (hMOF/KAT8/MYST1) reveal that they are autoMODIFIED at a strictly conserved lysine residue in MYST proteins (yEsa1-K262 and hMOF-K274) in the enzyme active site.\n",
      "Predicted Label: 1, True Label: 0\n",
      "\n",
      "Text: Myc recruits TRANSFERASES to modify [E]PROTEIN[/E] and is, itself, MODIFIED in mammalian cells by several of these TRANSFERASES including p300/CBP, GCN5, and Tip60.\n",
      "Predicted Label: 1, True Label: 0\n",
      "\n",
      "Text: The mutant [E]PROTEIN[/E] expressed in mouse B82 cells displayed normal EGF binding and in vivo autoMODIFICATION and was fully active in biological signal transduction as measured by EGF -stimulated gene transcription .\n",
      "Predicted Label: 0, True Label: 1\n",
      "\n",
      "Text: AB - [E]PROTEIN[/E] is a member of the ERM family , a family of cross-linkers between the plasma membrane and the actin cytoskeleton , which are known to be activated by MODIFICATION .\n",
      "Predicted Label: 0, True Label: 1\n",
      "\n",
      "Text: TI - Mutational removal of the [E]PROTEIN[/E] and Ser671 MODIFICATION sites alters substrate specificity and ligand -induced internalization of the epidermal growth factor receptor .\n",
      "Predicted Label: 0, True Label: 1\n",
      "\n",
      "Text: Because the biological responsiveness of the EGF receptor is regulated by MODIFICATION at several of these sites , we studied the functional consequences of removal of the [E]PROTEIN[/E] and Ser671 MODIFICATION sites using site -directed mutagenesis .\n",
      "Predicted Label: 0, True Label: 1\n",
      "\n",
      "Text: The inhibition of protein TRANSFERASE A ( PKA ) , known as an upstream TRANSFERASE of [E]PROTEIN[/E] , abolished Rac1 activation and moesin MODIFICATION by KCl .\n",
      "Predicted Label: 1, True Label: 0\n",
      "\n",
      "Text: Finally , the MODIFICATION pattern of Cos2 produced by baculovirus coinfection with wild-type Fu is almost identical to that of [E]PROTEIN[/E] isolated from S2 cells stimulated by Hh , indicating that MODIFICATION of serines 572 and 931 is a genuine Hh signaling event .\n",
      "Predicted Label: 1, True Label: 0\n",
      "\n",
      "Text: Recent studies on the role of conserved PPPSPxS motifs in the cytoplasmic tail of low-density lipoprotein receptor -related protein ( LRP , isoforms 5 and 6 ) culminated in a biochemical model : Wnt induces the MODIFICATION of LRP6 PPPSPxS motifs , which consequently access the catalytic pocket of GSK3 as pseudo-substrates , thus directly blocking its activity against [E]PROTEIN[/E] .\n",
      "Predicted Label: 1, True Label: 0\n",
      "\n",
      "Text: Wnt blocks this MODIFICATION event , thereby allowing [E]PROTEIN[/E] to accumulate and to co-activate transcription in the nucleus .\n",
      "Predicted Label: 1, True Label: 0\n",
      "\n",
      "Text: Recent studies on the role of conserved PPPSPxS motifs in the cytoplasmic tail of [E]PROTEIN[/E] culminated in a biochemical model : Wnt induces the MODIFICATION of LRP6 PPPSPxS motifs , which consequently access the catalytic pocket of GSK3 as pseudo-substrates , thus directly blocking its activity against beta-catenin .\n",
      "Predicted Label: 1, True Label: 0\n",
      "\n",
      "Text: In contrast, N629 is not used for MODIFICATION, but mutation of this site ([E]PROTEIN[/E]) causes a protein trafficking defect, which results in its intracellular retention.\n",
      "Predicted Label: 0, True Label: 1\n",
      "\n",
      "Text: In summary, our data indicate that utilization of several MODIFICATION sites is important for [E]PROTEIN[/E] activity, whereas the structure of the attached GROUPS is not critical.\n",
      "Predicted Label: 0, True Label: 1\n",
      "\n",
      "Text: Pulse-chase experiments show that the turnover rate of nonMODIFIED HERG channel is faster than that of the MODIFIED form, suggesting that MODIFICATION plays an important role in [E]PROTEIN[/E] channel stability.\n",
      "Predicted Label: 0, True Label: 1\n",
      "\n",
      "Text: Although plants contain substantial amounts of [E]PROTEIN[/E], the enzymes responsible for AGP MODIFICATION are largely unknown.\n",
      "Predicted Label: 1, True Label: 0\n",
      "\n",
      "Text: We found differences between [E]PROTEIN[/E] GROUPS from patient sera compared to controls.\n",
      "Predicted Label: 1, True Label: 0\n",
      "\n",
      "Text: Loss of MODIFICATION at N65 resulted in aggregation of [E]PROTEIN[/E], suggesting that MODIFICATION at this site is essential for proper folding of the enzyme.\n",
      "Predicted Label: 1, True Label: 0\n",
      "\n",
      "Text: In conclusion, protein MODIFICATION of surface proteins may enhance C.\n",
      "Predicted Label: 1, True Label: 0\n",
      "\n",
      "Text: AtGALT2 specifically catalyzed incorporation of GROUP from GROUP to Hyp of model substrate acceptors having AGP peptide sequences, consisting of non-contiguous Hyp residues, such as (Ala-Hyp) repetitive units exemplified by chemically synthesized [E]PROTEIN[/E] and anhydrous hydrogen fluoride-deglycosylated d(AO)51.\n",
      "Predicted Label: 1, True Label: 0\n",
      "\n"
     ]
    }
   ],
   "source": [
    "import numpy as np\n",
    "\n",
    "# Assuming `dataset_tst['Sentence']` is your texts and `dataset_tst['Label']` are your true labels\n",
    "true_labels = test_dataset['Label'].to_numpy()\n",
    "predicted_labels = pred_labels  # This is obtained from your code\n",
    "\n",
    "# Find the indices where predicted and true labels differ\n",
    "mismatches = np.where(predicted_labels != true_labels)[0]\n",
    "\n",
    "# Extract the texts and their predicted and true labels for the mismatches\n",
    "mismatched_texts = test_dataset['Sentence'].iloc[mismatches].values\n",
    "mismatched_predictions = predicted_labels[mismatches]\n",
    "mismatched_true_labels = true_labels[mismatches]\n",
    "\n",
    "# Display the results or process them further as needed\n",
    "for i, text in enumerate(mismatched_texts):\n",
    "    print(f\"Text: {text}\")\n",
    "    print(f\"Predicted Label: {mismatched_predictions[i]}, True Label: {mismatched_true_labels[i]}\\n\")\n",
    "\n",
    "# Depending on your dataset size and the number of mismatches, you might want to limit the number of outputs.\n"
   ]
  },
  {
   "cell_type": "code",
   "execution_count": 15,
   "metadata": {},
   "outputs": [
    {
     "data": {
      "image/png": "[encoded data removed]",
      "text/plain": [
       "<Figure size 800x600 with 2 Axes>"
      ]
     },
     "metadata": {},
     "output_type": "display_data"
    }
   ],
   "source": [
    "from sklearn.metrics import confusion_matrix\n",
    "import matplotlib.pyplot as plt\n",
    "import seaborn as sns\n",
    "\n",
    "# True labels\n",
    "true_labels = test_dataset['Label'].to_numpy()\n",
    "\n",
    "# Predicted labels\n",
    "predicted_labels = pred_labels\n",
    "\n",
    "# Compute confusion matrix\n",
    "cm = confusion_matrix(true_labels, predicted_labels)\n",
    "\n",
    "# Plot the confusion matrix using Seaborn\n",
    "fig, ax = plt.subplots(figsize=(8, 6))\n",
    "sns.heatmap(cm, annot=True, fmt='d', cmap='Blues', xticklabels=[0, 1], yticklabels=[0, 1])\n",
    "plt.ylabel('Actual')\n",
    "plt.xlabel('Predicted')\n",
    "plt.title('Confusion Matrix')\n",
    "plt.show()\n"
   ]
  },
  {
   "cell_type": "code",
   "execution_count": 28,
   "metadata": {},
   "outputs": [],
   "source": [
    "def predict_sentences(sentences):\n",
    "    # Tokenize the sentences\n",
    "    encoded_input = tokenizer(sentences, padding=True, truncation=True, return_tensors=\"pt\")\n",
    "    \n",
    "    # Move tensors to the correct device\n",
    "    input_ids = encoded_input['input_ids'].to(device)\n",
    "    attention_mask = encoded_input['attention_mask'].to(device)\n",
    "    \n",
    "    # Predict without using named arguments\n",
    "    with torch.no_grad():\n",
    "        outputs = model(input_ids, attention_mask)\n",
    "    \n",
    "    logits = outputs\n",
    "    # Add a dimension to logits if it's missing the batch dimension\n",
    "    if logits.dim() == 1:\n",
    "        logits = logits.unsqueeze(0)\n",
    "    predictions = torch.argmax(logits, dim=1)\n",
    "    return predictions.cpu().numpy()"
   ]
  },
  {
   "cell_type": "code",
   "execution_count": 30,
   "metadata": {},
   "outputs": [
    {
     "name": "stdout",
     "output_type": "stream",
     "text": [
      "Predicted classes: [1]\n"
     ]
    }
   ],
   "source": [
    "new_sentences = [\n",
    "    \"Moreover, [E]PROTEIN[/E] is neddylated in vivo, and ATGP-GROUP conjugates accumulate in cells lacking either Ubp3p or its cofactor, Bre5p.\"\n",
    "]\n",
    "\n",
    "predicted_classes = predict_sentences(new_sentences)\n",
    "print(\"Predicted classes:\", predicted_classes)"
   ]
  }
 ],
 "metadata": {
  "kernelspec": {
   "display_name": "Python 3",
   "language": "python",
   "name": "python3"
  },
  "language_info": {
   "codemirror_mode": {
    "name": "ipython",
    "version": 3
   },
   "file_extension": ".py",
   "mimetype": "text/x-python",
   "name": "python",
   "nbconvert_exporter": "python",
   "pygments_lexer": "ipython3",
   "version": "3.8.10"
  }
 },
 "nbformat": 4,
 "nbformat_minor": 2
}
